{
 "cells": [
  {
   "cell_type": "markdown",
   "metadata": {},
   "source": [
    "# Modified LeNet for Traffic Signs"
   ]
  },
  {
   "cell_type": "markdown",
   "metadata": {},
   "source": [
    "## Load Data"
   ]
  },
  {
   "cell_type": "code",
   "execution_count": 1,
   "metadata": {
    "collapsed": false,
    "scrolled": true
   },
   "outputs": [
    {
     "name": "stdout",
     "output_type": "stream",
     "text": [
      "\n",
      "Image Shape: (32, 32, 3)\n",
      "\n",
      "Training Set:   39209 samples\n",
      "Test Set:       12630 samples\n"
     ]
    }
   ],
   "source": [
    "# Load pickled data\n",
    "import pickle\n",
    "import tensorflow as tf\n",
    "\n",
    "training_file = './traffic-signs-data/train.p'\n",
    "testing_file = './traffic-signs-data/test.p'\n",
    "\n",
    "with open(training_file, mode='rb') as f:\n",
    "    train = pickle.load(f)\n",
    "with open(testing_file, mode='rb') as f:\n",
    "    test = pickle.load(f)\n",
    "    \n",
    "X_train, y_train = train['features'], train['labels']\n",
    "X_test, y_test = test['features'], test['labels']\n",
    "\n",
    "assert(len(X_train) == len(y_train))\n",
    "assert(len(X_test) == len(y_test))\n",
    "\n",
    "print()\n",
    "print(\"Image Shape: {}\".format(X_train[0].shape))\n",
    "print()\n",
    "print(\"Training Set:   {} samples\".format(len(X_train)))\n",
    "print(\"Test Set:       {} samples\".format(len(X_test)))"
   ]
  },
  {
   "cell_type": "code",
   "execution_count": 2,
   "metadata": {
    "collapsed": false
   },
   "outputs": [
    {
     "name": "stdout",
     "output_type": "stream",
     "text": [
      "Updated image Shape: (32, 32, 3)\n",
      "Updated Training Set:   31367 samples\n",
      "Updated Validation Set:   7842 samples\n",
      "Updated Test Set:       12630 samples\n"
     ]
    }
   ],
   "source": [
    "from sklearn.model_selection import train_test_split\n",
    "\n",
    "X_train, X_validation, y_train, y_validation = train_test_split(X_train, y_train, test_size = 0.2, random_state=0)\n",
    "\n",
    "print(\"Updated image Shape: {}\".format(X_train[0].shape))\n",
    "print(\"Updated Training Set:   {} samples\".format(len(X_train)))\n",
    "print(\"Updated Validation Set:   {} samples\".format(len(X_validation)))\n",
    "print(\"Updated Test Set:       {} samples\".format(len(X_test)))"
   ]
  },
  {
   "cell_type": "code",
   "execution_count": 3,
   "metadata": {
    "collapsed": false
   },
   "outputs": [
    {
     "data": {
      "image/png": "[encoded data removed]",
      "text/plain": [
       "<matplotlib.figure.Figure at 0x2395a3fd940>"
      ]
     },
     "metadata": {},
     "output_type": "display_data"
    }
   ],
   "source": [
    "import matplotlib.pyplot as plt\n",
    "n_classes=43\n",
    "n,binout,patches = plt.hist(y_train, bins=n_classes)  # plt.hist passes it's arguments to np.histogram\n",
    "plt.title(\"Histogram of sign indices in training set\")\n",
    "plt.show()"
   ]
  },
  {
   "cell_type": "code",
   "execution_count": 4,
   "metadata": {
    "collapsed": true
   },
   "outputs": [],
   "source": [
    "def random_translate(img):\n",
    "    rows,cols,_ = img.shape\n",
    "    \n",
    "    # allow translation up to px pixels in x and y directions\n",
    "    px = 2\n",
    "    dx,dy = np.random.randint(-px,px,2)\n",
    "\n",
    "    M = np.float32([[1,0,dx],[0,1,dy]])\n",
    "    dst = cv2.warpAffine(img,M,(cols,rows))\n",
    "    \n",
    "    return dst\n",
    "\n",
    "def random_warp(img):\n",
    "    \n",
    "    rows,cols,_ = img.shape\n",
    "\n",
    "    # random scaling coefficients\n",
    "    rndx = np.random.rand(3) - 0.5\n",
    "    rndx *= cols * 0.06   # this coefficient determines the degree of warping\n",
    "    rndy = np.random.rand(3) - 0.5\n",
    "    rndy *= rows * 0.06\n",
    "\n",
    "    # 3 starting points for transform, 1/4 way from edges\n",
    "    x1 = cols/4\n",
    "    x2 = 3*cols/4\n",
    "    y1 = rows/4\n",
    "    y2 = 3*rows/4\n",
    "\n",
    "    pts1 = np.float32([[y1,x1],\n",
    "                       [y2,x1],\n",
    "                       [y1,x2]])\n",
    "    pts2 = np.float32([[y1+rndy[0],x1+rndx[0]],\n",
    "                       [y2+rndy[1],x1+rndx[1]],\n",
    "                       [y1+rndy[2],x2+rndx[2]]])\n",
    "\n",
    "    M = cv2.getAffineTransform(pts1,pts2)\n",
    "\n",
    "    dst = cv2.warpAffine(img,M,(cols,rows))\n",
    "       \n",
    "    return dst\n",
    "\n",
    "\n",
    "\n",
    "def random_scaling(img):   \n",
    "    rows,cols,_ = img.shape\n",
    "\n",
    "    # transform limits\n",
    "    px = np.random.randint(-2,2)\n",
    "\n",
    "    # ending locations\n",
    "    pts1 = np.float32([[px,px],[rows-px,px],[px,cols-px],[rows-px,cols-px]])\n",
    "\n",
    "    # starting locations (4 corners)\n",
    "    pts2 = np.float32([[0,0],[rows,0],[0,cols],[rows,cols]])\n",
    "\n",
    "    M = cv2.getPerspectiveTransform(pts1,pts2)\n",
    "\n",
    "    dst = cv2.warpPerspective(img,M,(rows,cols))\n",
    "    \n",
    "    return dst"
   ]
  },
  {
   "cell_type": "code",
   "execution_count": 5,
   "metadata": {
    "collapsed": false
   },
   "outputs": [
    {
     "name": "stdout",
     "output_type": "stream",
     "text": [
      "(83967, 32, 32, 3)\n",
      "(83967,)\n"
     ]
    }
   ],
   "source": [
    "import numpy as np\n",
    "import random\n",
    "import cv2\n",
    "\n",
    "def augment_image(X_in, steps):\n",
    "    # this is a simple function that duplicates the image.  Need to improve this with small shape changes\n",
    "    retval = np.ndarray((steps, X_in.shape[0], X_in.shape[1], X_in.shape[2]), dtype=np.uint8)\n",
    "    for step in range(steps):\n",
    "        #retval[step] = X_in # simply duplicate the image for now\n",
    "        retval[step] = random_translate(random_scaling(random_warp(X_in)))\n",
    "    return retval\n",
    "\n",
    "count = n.size\n",
    "target_count = 2000 # want at least this many images per class\n",
    "result = np.ndarray((1,2))\n",
    "aug_steps = 100 #number of augmentations per image\n",
    "\n",
    "for index in range(count):\n",
    "    if (n[index] < target_count):\n",
    "        #print(index)\n",
    "        #get all images in this class\n",
    "        X_source = X_train[y_train==index]\n",
    "        #repeat (target_count-n[index]) / aug_steps\n",
    "        for aug_loops in range(int((target_count-n[index]) / aug_steps)):\n",
    "            #pick a random image from X_source\n",
    "            class_idx = random.randint(0, X_source.shape[0]-1)\n",
    "            #reproduce the image aug_steps times\n",
    "            X_aug = augment_image(X_source[index], aug_steps)\n",
    "            #append the new images to the X_train\n",
    "            X_train = np.append(X_train,X_aug, axis=0)\n",
    "            #append the class data to y_train\n",
    "            y_train = np.append(y_train, np.repeat(index, aug_steps))\n",
    "                \n",
    "print(X_train.shape)\n",
    "print(y_train.shape)"
   ]
  },
  {
   "cell_type": "code",
   "execution_count": 6,
   "metadata": {
    "collapsed": false,
    "scrolled": false
   },
   "outputs": [],
   "source": [
    "import cv2\n",
    "import numpy as np\n",
    "\n",
    "def canny(img, low_threshold = 30, high_threshold = 140):\n",
    "    \"\"\"Applies the Canny transform\"\"\"\n",
    "    img = cv2.Canny(img, low_threshold, high_threshold)\n",
    "    img = np.reshape(img,(32,32,1))\n",
    "    return img\n",
    "\n",
    "def preprocess(data):\n",
    "    \"\"\"Convert to grayscale, histogram equalize, and expand dims\"\"\"\n",
    "    imgs = np.ndarray((data.shape[0], 32, 32, 3), dtype=np.uint8)\n",
    "    for i, img in enumerate(data):\n",
    "        img = cv2.cvtColor(img, cv2.COLOR_RGB2GRAY)\n",
    "        img = cv2.equalizeHist(img)\n",
    "        img = np.expand_dims(img, axis=2)\n",
    "        imgs[i] = img\n",
    "    return imgs\n",
    "\n",
    "def hisEqulColor(data):\n",
    "    imgs = np.ndarray((data.shape[0], 32, 32, 3), dtype=np.uint8)\n",
    "    for i, img in enumerate(data):    \n",
    "        ycrcb=cv2.cvtColor(img,cv2.COLOR_RGB2YCR_CB)\n",
    "        channels=cv2.split(ycrcb)\n",
    "        cv2.equalizeHist(channels[0],channels[0])\n",
    "        cv2.merge(channels,ycrcb)\n",
    "        cv2.cvtColor(ycrcb,cv2.COLOR_YCR_CB2RGB,img)\n",
    "        imgs[i] = img\n",
    "    return imgs\n",
    "\n",
    "def NOT_hisEqulColor(data):\n",
    "    imgs = np.ndarray((data.shape[0], 32, 32, 4), dtype=np.uint8)\n",
    "    for i, img in enumerate(data):    \n",
    "        ycrcb=cv2.cvtColor(img,cv2.COLOR_RGB2YCR_CB)\n",
    "        channels=cv2.split(ycrcb)\n",
    "        cv2.equalizeHist(channels[0],channels[0])\n",
    "        cv2.merge(channels,ycrcb)\n",
    "        cv2.cvtColor(ycrcb,cv2.COLOR_YCR_CB2RGB,img)        \n",
    "\n",
    "        gray_img = cv2.cvtColor(img, cv2.COLOR_RGB2GRAY)        \n",
    "        gray_img =  np.reshape(gray_img,(32,32,1))\n",
    "        cv2.equalizeHist(gray_img,gray_img)   \n",
    "#        gray_img=canny(gray_img)\n",
    "#        print(gray_img.shape)\n",
    "        myvar = np.concatenate((img, gray_img), axis=2)\n",
    "#        print(myvar.shape)        \n",
    "    \n",
    "        imgs[i] = myvar\n",
    "    return imgs\n",
    "\n",
    "X_train = NOT_hisEqulColor(X_train)\n",
    "X_validation = NOT_hisEqulColor(X_validation)\n",
    "X_test = NOT_hisEqulColor(X_test)"
   ]
  },
  {
   "cell_type": "code",
   "execution_count": 7,
   "metadata": {
    "collapsed": false
   },
   "outputs": [
    {
     "name": "stdout",
     "output_type": "stream",
     "text": [
      "(83967, 32, 32, 4)\n"
     ]
    }
   ],
   "source": [
    "print(X_train.shape)"
   ]
  },
  {
   "cell_type": "markdown",
   "metadata": {},
   "source": [
    "## Visualize Data\n",
    "\n",
    "View a sample from the dataset.\n",
    "\n",
    "You do not need to modify this section."
   ]
  },
  {
   "cell_type": "code",
   "execution_count": 8,
   "metadata": {
    "collapsed": false
   },
   "outputs": [
    {
     "name": "stdout",
     "output_type": "stream",
     "text": [
      "37\n"
     ]
    },
    {
     "data": {
      "image/png": "[encoded data removed]",
      "text/plain": [
       "<matplotlib.figure.Figure at 0x2396273ce80>"
      ]
     },
     "metadata": {},
     "output_type": "display_data"
    },
    {
     "data": {
      "image/png": "[encoded data removed]",
      "text/plain": [
       "<matplotlib.figure.Figure at 0x23905031048>"
      ]
     },
     "metadata": {},
     "output_type": "display_data"
    }
   ],
   "source": [
    "import random\n",
    "import numpy as np\n",
    "import matplotlib.pyplot as plt\n",
    "%matplotlib inline\n",
    "\n",
    "index = random.randint(0, len(X_train))\n",
    "image = X_train[index].squeeze()\n",
    "\n",
    "plt.figure(figsize=(1,1))\n",
    "plt.imshow(image[:,:,3], cmap='gray')\n",
    "\n",
    "plt.figure(figsize=(1,1))\n",
    "plt.imshow(image[:,:,0:3])\n",
    "\n",
    "print(y_train[index])"
   ]
  },
  {
   "cell_type": "markdown",
   "metadata": {},
   "source": [
    "## Preprocess Data\n",
    "\n",
    "Shuffle the training data.\n",
    "\n",
    "You do not need to modify this section."
   ]
  },
  {
   "cell_type": "code",
   "execution_count": 9,
   "metadata": {
    "collapsed": false
   },
   "outputs": [],
   "source": [
    "from sklearn.utils import shuffle\n",
    "\n",
    "X_train, y_train = shuffle(X_train, y_train)"
   ]
  },
  {
   "cell_type": "markdown",
   "metadata": {},
   "source": [
    "## Setup TensorFlow\n",
    "The `EPOCH` and `BATCH_SIZE` values affect the training speed and model accuracy.\n",
    "\n",
    "You do not need to modify this section."
   ]
  },
  {
   "cell_type": "code",
   "execution_count": 20,
   "metadata": {
    "collapsed": true
   },
   "outputs": [],
   "source": [
    "import tensorflow as tf\n",
    "\n",
    "EPOCHS = 15\n",
    "BATCH_SIZE = 100 #128"
   ]
  },
  {
   "cell_type": "code",
   "execution_count": 15,
   "metadata": {
    "collapsed": false
   },
   "outputs": [],
   "source": [
    "from tensorflow.contrib.layers import flatten\n",
    "\n",
    "def weight_variable(shape):\n",
    "  initial = tf.truncated_normal(shape, stddev=0.1)\n",
    "  return tf.Variable(initial)\n",
    "\n",
    "def bias_variable(shape):\n",
    "  initial = tf.constant(0.0, shape=shape)\n",
    "  return tf.Variable(initial)\n",
    "\n",
    "def conv2d(x, W):\n",
    "  return tf.nn.conv2d(x, W, strides=[1, 1, 1, 1], padding='SAME')\n",
    "\n",
    "def max_pool_2x2(x):\n",
    "  return tf.nn.max_pool(x, ksize=[1, 2, 2, 1], strides=[1, 2, 2, 1], padding='SAME')\n",
    "\n",
    "def LeNet(x):    \n",
    "    # Hyperparameters\n",
    "    mu = 0\n",
    "    sigma = 0.1\n",
    "    \n",
    "    # A way to get 32x32x1?  **=> Achieved 0.90 accuracy on Validation set <=**\n",
    "    #C0_W = weight_variable([1,1,3,1])\n",
    "    #C0_b = bias_variable([1])\n",
    "    #C0 = conv2d(x, C0_W)+C0_b\n",
    "    \n",
    "    # TODO: Layer 1: Convolutional. Input = 32x32x4. Output = 30x30x32.\n",
    "    # The shape of the filter weight is (height, width, input_depth, output_depth)\n",
    "    C1_W = tf.Variable(tf.truncated_normal(shape=(3, 3, 4, 32), mean=mu, stddev=sigma), name=\"C1_W\")\n",
    "    C1_b = tf.Variable(tf.zeros(32), name=\"C1_b\") # The shape of the filter bias is (output_depth,)\n",
    "    C1_strides = [1,1,1,1] # Set the stride for each dimension (batch_size, height, width, depth)\n",
    "    C1_padding = 'VALID'\n",
    "    C1 = tf.nn.conv2d(x,\n",
    "                      C1_W,\n",
    "                      C1_strides,\n",
    "                      C1_padding) + C1_b\n",
    "\n",
    "    # TODO: Activation.\n",
    "    #C1 = tf.nn.sigmoid(C1)\n",
    "    C1 = tf.nn.relu(C1)\n",
    "\n",
    "    # TODO: Pooling. Input = 28x28x6. Output = 14x14x6.\n",
    "    C1 = tf.nn.avg_pool(C1, ksize=[1, 2, 2, 1], strides=[1, 2, 2, 1], padding='VALID')\n",
    "    #C1 = max_pool_2x2(C1)\n",
    "    \n",
    "    # TODO: Layer 2: Convolutional. Output = 10x10x16.\n",
    "    C2_W = tf.Variable(tf.truncated_normal(shape=(5, 5, 32, 64), mean=mu, stddev=sigma), name=\"C2_W\")\n",
    "    C2_b = tf.Variable(tf.zeros(64), name=\"C2_b\") # The shape of the filter bias is (output_depth,)\n",
    "    C2_strides = [1,1,1,1] # Set the stride for each dimension (batch_size, height, width, depth)\n",
    "    C2_padding = 'VALID'\n",
    "    C2 = tf.nn.conv2d(C1,\n",
    "                      C2_W,\n",
    "                      C2_strides,\n",
    "                      C2_padding) + C2_b\n",
    "    \n",
    "    # TODO: Activation.\n",
    "    #C2 = tf.nn.sigmoid(C2)\n",
    "    C2 = tf.nn.relu(C2)\n",
    "    \n",
    "    # TODO: Pooling. Input = 10x10x16. Output = 5x5x16.\n",
    "    C2 = tf.nn.avg_pool(C2, ksize=[1, 2, 2, 1], strides=[1, 2, 2, 1], padding='VALID')\n",
    "    #C2 = max_pool_2x2(C2)\n",
    "    \n",
    "    # TODO: Flatten. Input = 5x5x16. Output = 400.\n",
    "    C2F = flatten(C2)\n",
    "\n",
    "    # TODO: Layer 3: Fully Connected. Input = 400. Output = 120.\n",
    "    FC3_W = tf.Variable(tf.truncated_normal(shape=(1600, 120), mean = mu, stddev = sigma), name=\"FC3_W\")\n",
    "    FC3_b = tf.Variable(tf.zeros(120), name=\"FC3_b\")\n",
    "    FC3 = tf.matmul(C2F, FC3_W) + FC3_b\n",
    "    \n",
    "    # SOLUTION: Activation.\n",
    "    #FC3 = tf.nn.sigmoid(FC3)\n",
    "    FC3 = tf.nn.relu(FC3)\n",
    "\n",
    "    # SOLUTION: Layer 4: Fully Connected. Input = 120. Output = 84.\n",
    "    FC4_W  = tf.Variable(tf.truncated_normal(shape=(120, 84), mean = mu, stddev = sigma), name=\"FC4_W\")\n",
    "    FC4_b  = tf.Variable(tf.zeros(84), name=\"FC4_b\")\n",
    "    FC4    = tf.matmul(FC3, FC4_W) + FC4_b\n",
    "    \n",
    "    # SOLUTION: Activation.\n",
    "    #FC4    = tf.nn.sigmoid(FC4)\n",
    "    FC4    = tf.nn.relu(FC4)\n",
    "    \n",
    "    #Add DROPOUT\n",
    "    h_fc1_drop = tf.nn.dropout(FC4, keep_prob)\n",
    "\n",
    "    # SOLUTION: Layer 5: Fully Connected. Input = 84. Output = 43.\n",
    "    FC5_W  = tf.Variable(tf.truncated_normal(shape=(84, 43), mean = mu, stddev = sigma), name=\"FC5_W\")\n",
    "    FC5_b  = tf.Variable(tf.zeros(43), name=\"FC5_b\")\n",
    "    logits = tf.matmul(h_fc1_drop, FC5_W) + FC5_b\n",
    "\n",
    "    return logits"
   ]
  },
  {
   "cell_type": "markdown",
   "metadata": {},
   "source": [
    "## Features and Labels\n",
    "Train LeNet to classify [MNIST](http://yann.lecun.com/exdb/mnist/) data.\n",
    "\n",
    "`x` is a placeholder for a batch of input images.\n",
    "`y` is a placeholder for a batch of output labels.\n",
    "\n",
    "You do not need to modify this section."
   ]
  },
  {
   "cell_type": "code",
   "execution_count": 16,
   "metadata": {
    "collapsed": false
   },
   "outputs": [],
   "source": [
    "x = tf.placeholder(tf.float32, (None, 32, 32, 4))\n",
    "y = tf.placeholder(tf.int32, (None))\n",
    "one_hot_y = tf.one_hot(y, 43)\n",
    "\n",
    "keep_prob = tf.placeholder(tf.float32)\n"
   ]
  },
  {
   "cell_type": "markdown",
   "metadata": {},
   "source": [
    "## Training Pipeline\n",
    "Create a training pipeline that uses the model to classify MNIST data.\n",
    "\n",
    "You do not need to modify this section."
   ]
  },
  {
   "cell_type": "code",
   "execution_count": 17,
   "metadata": {
    "collapsed": false
   },
   "outputs": [],
   "source": [
    "rate = 0.001\n",
    "\n",
    "#global_step = tf.Variable(0, trainable=False)\n",
    "#starter_learning_rate = 0.001\n",
    "#learning_rate = tf.train.exponential_decay(starter_learning_rate, global_step,\n",
    "#                                           100000, 0.96, staircase=True)\n",
    "\n",
    "logits = LeNet(x)\n",
    "cross_entropy = tf.nn.softmax_cross_entropy_with_logits(logits, one_hot_y)\n",
    "loss_operation = tf.reduce_mean(cross_entropy)\n",
    "\n",
    "optimizer = tf.train.AdamOptimizer(learning_rate = rate)\n",
    "training_operation = optimizer.minimize(loss_operation)\n",
    "\n",
    "#optimizer = tf.train.AdamOptimizer(learning_rate)\n",
    "#training_operation = optimizer.minimize(loss_operation, global_step=global_step)"
   ]
  },
  {
   "cell_type": "markdown",
   "metadata": {},
   "source": [
    "## Model Evaluation\n",
    "Evaluate how well the loss and accuracy of the model for a given dataset.\n",
    "\n",
    "You do not need to modify this section."
   ]
  },
  {
   "cell_type": "code",
   "execution_count": 18,
   "metadata": {
    "collapsed": false
   },
   "outputs": [],
   "source": [
    "correct_prediction = tf.equal(tf.argmax(logits, 1), tf.argmax(one_hot_y, 1))\n",
    "accuracy_operation = tf.reduce_mean(tf.cast(correct_prediction, tf.float32))\n",
    "saver = tf.train.Saver()\n",
    "\n",
    "def evaluate(X_data, y_data):\n",
    "    num_examples = len(X_data)\n",
    "    total_accuracy = 0\n",
    "    sess = tf.get_default_session()\n",
    "    for offset in range(0, num_examples, BATCH_SIZE):\n",
    "        batch_x, batch_y = X_data[offset:offset+BATCH_SIZE], y_data[offset:offset+BATCH_SIZE]\n",
    "        accuracy = sess.run(accuracy_operation, feed_dict={x: batch_x, y: batch_y, keep_prob: 1.0})\n",
    "        total_accuracy += (accuracy * len(batch_x))\n",
    "    return total_accuracy / num_examples"
   ]
  },
  {
   "cell_type": "markdown",
   "metadata": {},
   "source": [
    "## Train the Model\n",
    "Run the training data through the training pipeline to train the model.\n",
    "\n",
    "Before each epoch, shuffle the training set.\n",
    "\n",
    "After each epoch, measure the loss and accuracy of the validation set.\n",
    "\n",
    "Save the model after training.\n",
    "\n",
    "You do not need to modify this section."
   ]
  },
  {
   "cell_type": "code",
   "execution_count": 19,
   "metadata": {
    "collapsed": false,
    "scrolled": true
   },
   "outputs": [
    {
     "name": "stdout",
     "output_type": "stream",
     "text": [
      "WARNING:tensorflow:From <ipython-input-19-6be2c2aee365>:10 in <module>.: initialize_all_variables (from tensorflow.python.ops.variables) is deprecated and will be removed after 2017-03-02.\n",
      "Instructions for updating:\n",
      "Use `tf.global_variables_initializer` instead.\n",
      "Training...\n",
      "\n",
      "EPOCH 1 ...\n",
      "Validation Accuracy = 0.638\n",
      "EPOCH 2 ...\n",
      "Validation Accuracy = 0.819\n",
      "EPOCH 3 ...\n",
      "Validation Accuracy = 0.894\n",
      "EPOCH 4 ...\n",
      "Validation Accuracy = 0.918\n",
      "EPOCH 5 ...\n",
      "Validation Accuracy = 0.940\n",
      "EPOCH 6 ...\n",
      "Validation Accuracy = 0.947\n",
      "EPOCH 7 ...\n",
      "Validation Accuracy = 0.940\n",
      "EPOCH 8 ...\n",
      "Validation Accuracy = 0.959\n",
      "EPOCH 9 ...\n",
      "Validation Accuracy = 0.963\n",
      "EPOCH 10 ...\n",
      "Validation Accuracy = 0.970\n",
      "EPOCH 11 ...\n",
      "Validation Accuracy = 0.970\n",
      "EPOCH 12 ...\n",
      "Validation Accuracy = 0.963\n",
      "EPOCH 13 ...\n",
      "Validation Accuracy = 0.978\n",
      "EPOCH 14 ...\n",
      "Validation Accuracy = 0.974\n",
      "EPOCH 15 ...\n",
      "Validation Accuracy = 0.961\n",
      "EPOCH 16 ...\n",
      "Validation Accuracy = 0.972\n",
      "EPOCH 17 ...\n",
      "Validation Accuracy = 0.974\n",
      "EPOCH 18 ...\n",
      "Validation Accuracy = 0.979\n",
      "EPOCH 19 ...\n",
      "Validation Accuracy = 0.970\n",
      "EPOCH 20 ...\n",
      "Validation Accuracy = 0.979\n",
      "EPOCH 21 ...\n",
      "Validation Accuracy = 0.956\n",
      "EPOCH 22 ...\n",
      "Validation Accuracy = 0.963\n",
      "EPOCH 23 ...\n",
      "Validation Accuracy = 0.971\n",
      "EPOCH 24 ...\n",
      "Validation Accuracy = 0.940\n",
      "EPOCH 25 ...\n",
      "Validation Accuracy = 0.980\n",
      "EPOCH 26 ...\n",
      "Validation Accuracy = 0.978\n",
      "EPOCH 27 ...\n",
      "Validation Accuracy = 0.956\n",
      "EPOCH 28 ...\n",
      "Validation Accuracy = 0.956\n",
      "EPOCH 29 ...\n",
      "Validation Accuracy = 0.977\n",
      "EPOCH 30 ...\n",
      "Validation Accuracy = 0.983\n",
      "EPOCH 31 ...\n",
      "Validation Accuracy = 0.980\n",
      "EPOCH 32 ...\n",
      "Validation Accuracy = 0.959\n",
      "EPOCH 33 ...\n",
      "Validation Accuracy = 0.972\n",
      "EPOCH 34 ...\n",
      "Validation Accuracy = 0.976\n",
      "EPOCH 35 ...\n",
      "Validation Accuracy = 0.975\n",
      "EPOCH 36 ...\n",
      "Validation Accuracy = 0.975\n",
      "EPOCH 37 ...\n",
      "Validation Accuracy = 0.973\n",
      "EPOCH 38 ...\n",
      "Validation Accuracy = 0.941\n",
      "EPOCH 39 ...\n",
      "Validation Accuracy = 0.977\n",
      "EPOCH 40 ...\n",
      "Validation Accuracy = 0.974\n",
      "EPOCH 41 ...\n",
      "Validation Accuracy = 0.977\n",
      "EPOCH 42 ...\n",
      "Validation Accuracy = 0.970\n",
      "EPOCH 43 ...\n",
      "Validation Accuracy = 0.974\n",
      "EPOCH 44 ...\n",
      "Validation Accuracy = 0.975\n",
      "EPOCH 45 ...\n",
      "Validation Accuracy = 0.853\n",
      "EPOCH 46 ...\n",
      "Validation Accuracy = 0.983\n",
      "EPOCH 47 ...\n",
      "Validation Accuracy = 0.981\n",
      "EPOCH 48 ...\n",
      "Validation Accuracy = 0.981\n",
      "EPOCH 49 ...\n",
      "Validation Accuracy = 0.938\n",
      "EPOCH 50 ...\n",
      "Validation Accuracy = 0.961\n",
      "EPOCH 51 ...\n",
      "Validation Accuracy = 0.982\n",
      "EPOCH 52 ...\n",
      "Validation Accuracy = 0.944\n",
      "EPOCH 53 ...\n",
      "Validation Accuracy = 0.966\n",
      "EPOCH 54 ...\n",
      "Validation Accuracy = 0.981\n",
      "EPOCH 55 ...\n",
      "Validation Accuracy = 0.974\n",
      "EPOCH 56 ...\n",
      "Validation Accuracy = 0.981\n",
      "EPOCH 57 ...\n",
      "Validation Accuracy = 0.982\n",
      "EPOCH 58 ...\n",
      "Validation Accuracy = 0.979\n",
      "EPOCH 59 ...\n",
      "Validation Accuracy = 0.982\n",
      "EPOCH 60 ...\n",
      "Validation Accuracy = 0.976\n",
      "EPOCH 61 ...\n",
      "Validation Accuracy = 0.976\n",
      "EPOCH 62 ...\n",
      "Validation Accuracy = 0.979\n",
      "EPOCH 63 ...\n",
      "Validation Accuracy = 0.979\n",
      "EPOCH 64 ...\n",
      "Validation Accuracy = 0.984\n",
      "EPOCH 65 ...\n",
      "Validation Accuracy = 0.812\n",
      "EPOCH 66 ...\n",
      "Validation Accuracy = 0.983\n",
      "EPOCH 67 ...\n",
      "Validation Accuracy = 0.982\n",
      "EPOCH 68 ...\n",
      "Validation Accuracy = 0.983\n",
      "EPOCH 69 ...\n",
      "Validation Accuracy = 0.979\n",
      "EPOCH 70 ...\n",
      "Validation Accuracy = 0.975\n",
      "EPOCH 71 ...\n",
      "Validation Accuracy = 0.980\n",
      "EPOCH 72 ...\n",
      "Validation Accuracy = 0.984\n",
      "EPOCH 73 ...\n",
      "Validation Accuracy = 0.980\n",
      "EPOCH 74 ...\n",
      "Validation Accuracy = 0.972\n",
      "EPOCH 75 ...\n",
      "Validation Accuracy = 0.946\n",
      "EPOCH 76 ...\n",
      "Validation Accuracy = 0.981\n",
      "EPOCH 77 ...\n",
      "Validation Accuracy = 0.980\n",
      "EPOCH 78 ...\n",
      "Validation Accuracy = 0.974\n",
      "EPOCH 79 ...\n",
      "Validation Accuracy = 0.973\n",
      "EPOCH 80 ...\n",
      "Validation Accuracy = 0.979\n",
      "EPOCH 81 ...\n",
      "Validation Accuracy = 0.976\n",
      "EPOCH 82 ...\n",
      "Validation Accuracy = 0.963\n",
      "EPOCH 83 ...\n",
      "Validation Accuracy = 0.979\n",
      "EPOCH 84 ...\n",
      "Validation Accuracy = 0.979\n",
      "EPOCH 85 ...\n",
      "Validation Accuracy = 0.979\n",
      "EPOCH 86 ...\n",
      "Validation Accuracy = 0.979\n",
      "EPOCH 87 ...\n",
      "Validation Accuracy = 0.970\n",
      "EPOCH 88 ...\n",
      "Validation Accuracy = 0.976\n",
      "EPOCH 89 ...\n",
      "Validation Accuracy = 0.972\n",
      "EPOCH 90 ...\n",
      "Validation Accuracy = 0.980\n",
      "EPOCH 91 ...\n",
      "Validation Accuracy = 0.977\n",
      "EPOCH 92 ...\n",
      "Validation Accuracy = 0.980\n",
      "EPOCH 93 ...\n",
      "Validation Accuracy = 0.982\n",
      "EPOCH 94 ...\n",
      "Validation Accuracy = 0.934\n",
      "EPOCH 95 ...\n",
      "Validation Accuracy = 0.973\n",
      "EPOCH 96 ...\n",
      "Validation Accuracy = 0.980\n",
      "EPOCH 97 ...\n",
      "Validation Accuracy = 0.976\n",
      "EPOCH 98 ...\n",
      "Validation Accuracy = 0.981\n",
      "EPOCH 99 ...\n",
      "Validation Accuracy = 0.970\n",
      "EPOCH 100 ...\n",
      "Validation Accuracy = 0.970\n",
      "Model saved\n"
     ]
    }
   ],
   "source": [
    "def reportout(s):\n",
    "    print(s)\n",
    "    output_f = open('workfile.txt', 'a')\n",
    "    output_f.write(s)\n",
    "    output_f.close()\n",
    "    return\n",
    "    \n",
    "with tf.Session() as sess:\n",
    "    #sess.run(tf.global_variables_initializer())\n",
    "    sess.run(tf.initialize_all_variables())\n",
    "    num_examples = len(X_train)\n",
    "    \n",
    "    print(\"Training...\")\n",
    "    print()\n",
    "    for i in range(EPOCHS):\n",
    "        X_train, y_train = shuffle(X_train, y_train)\n",
    "        for offset in range(0, num_examples, BATCH_SIZE):\n",
    "            end = offset + BATCH_SIZE\n",
    "            batch_x, batch_y = X_train[offset:end], y_train[offset:end]\n",
    "            sess.run(training_operation, feed_dict={x: batch_x, y: batch_y, keep_prob: 0.5})\n",
    "            \n",
    "        validation_accuracy = evaluate(X_validation, y_validation)\n",
    "        \n",
    "        #print(\"EPOCH {} ...\".format(i+1))\n",
    "        #print(\"Validation Accuracy = {:.3f}\".format(validation_accuracy))\n",
    "        #print()\n",
    "        \n",
    "        reportout(str(\"EPOCH {} ...\".format(i+1)))\n",
    "        reportout(str(\"Validation Accuracy = {:.3f}\".format(validation_accuracy)))\n",
    "        \n",
    "    saver.save(sess, '.\\lenet')\n",
    "    print(\"Model saved\")"
   ]
  },
  {
   "cell_type": "markdown",
   "metadata": {},
   "source": [
    "## Evaluate the Model\n",
    "Once you are completely satisfied with your model, evaluate the performance of the model on the test set.\n",
    "\n",
    "Be sure to only do this once!\n",
    "\n",
    "If you were to measure the performance of your trained model on the test set, then improve your model, and then measure the performance of your model on the test set again, that would invalidate your test results. You wouldn't get a true measure of how well your model would perform against real data.\n",
    "\n",
    "You do not need to modify this section."
   ]
  },
  {
   "cell_type": "code",
   "execution_count": null,
   "metadata": {
    "collapsed": false
   },
   "outputs": [],
   "source": [
    "with tf.Session() as sess:\n",
    "    saver.restore(sess, tf.train.latest_checkpoint('.'))\n",
    "\n",
    "    test_accuracy = evaluate(X_test, y_test)\n",
    "    print(\"Test Accuracy = {:.3f}\".format(test_accuracy))"
   ]
  },
  {
   "cell_type": "code",
   "execution_count": null,
   "metadata": {
    "collapsed": false
   },
   "outputs": [],
   "source": [
    "img_count = 38\n",
    "found_imgs = np.ndarray((img_count,32,32,3), dtype=np.uint8)\n",
    "\n",
    "for i in range(0,img_count):\n",
    "    s=str(\".\\my_data\\example_{:05d}.png\".format(i+1))\n",
    "    img = cv2.imread(s)\n",
    "    found_imgs[i] = img\n",
    "    \n",
    "plt.figure(figsize=(1,1))\n",
    "my_img = found_imgs[0]\n",
    "plt.imshow(my_img[:,:,0:3])"
   ]
  },
  {
   "cell_type": "code",
   "execution_count": null,
   "metadata": {
    "collapsed": true
   },
   "outputs": [],
   "source": [
    "y_custom = np.array([\n",
    "    21, # \"example_00001\"\n",
    "    39, # \"example_00002\"\n",
    "    17, # \"example_00003\"\n",
    "    17, # \"example_00004\"\n",
    "    17, # \"example_00005\"\n",
    "    39, # \"example_00006\"\n",
    "    39, # \"example_00007\"\n",
    "    40, # \"example_00008\"\n",
    "    40, # \"example_00009\"\n",
    "    34, # \"example_00010\"\n",
    "    28, # \"example_00011\"\n",
    "    39, # \"example_00012\"\n",
    "    0, # \"example_00013\"\n",
    "    17, # \"example_00014\"\n",
    "    38, # \"example_00015\"\n",
    "    13, # \"example_00016\"\n",
    "    40, # \"example_00017\"\n",
    "    13, # \"example_00018\"\n",
    "    38, # \"example_00019\"\n",
    "    38, # \"example_00020\"\n",
    "    11, # \"example_00021\"\n",
    "    0, # \"example_00022\"\n",
    "    28, # \"example_00023\"\n",
    "    0, # \"example_00024\"\n",
    "    99, # \"example_00025\"\n",
    "    99, # \"example_00026\"\n",
    "    99, # \"example_00027\"\n",
    "    32, # \"example_00028\"\n",
    "    40, # \"example_00029\"\n",
    "    28, # \"example_00030\"\n",
    "    40, # \"example_00031\"\n",
    "    40, # \"example_00032\"\n",
    "    28, # \"example_00033\"\n",
    "    24, # \"example_00034\"\n",
    "    0, # \"example_00035\"\n",
    "    0, # \"example_00036\"\n",
    "    0, # \"example_00037\"\n",
    "    0 # \"example_00038\"\n",
    "])"
   ]
  },
  {
   "cell_type": "code",
   "execution_count": null,
   "metadata": {
    "collapsed": false
   },
   "outputs": [],
   "source": [
    "found_imgs = NOT_hisEqulColor(found_imgs)\n",
    "\n",
    "print(found_imgs.shape)"
   ]
  },
  {
   "cell_type": "code",
   "execution_count": null,
   "metadata": {
    "collapsed": false
   },
   "outputs": [],
   "source": [
    "with tf.Session() as sess:\n",
    "    saver.restore(sess, tf.train.latest_checkpoint('.'))\n",
    "\n",
    "    test_accuracy = evaluate(found_imgs, y_custom)\n",
    "    print(\"Test Accuracy = {:.3f}\".format(test_accuracy))"
   ]
  },
  {
   "cell_type": "code",
   "execution_count": null,
   "metadata": {
    "collapsed": false
   },
   "outputs": [],
   "source": [
    "#aug_train = {'features': X_train,\n",
    "#             'labels': y_train}\n",
    "found_samples = {'features': found_imgs,\n",
    "                 'labels': y_custom}\n",
    "\n",
    "pickle.dump(found_samples, open( './my_data/found.p', 'wb' ) )\n",
    "\n",
    "print('done')"
   ]
  },
  {
   "cell_type": "code",
   "execution_count": null,
   "metadata": {
    "collapsed": true
   },
   "outputs": [],
   "source": [
    "# Load pickled data\n",
    "foundsamples_file = './my_data/found.p'\n",
    "\n",
    "with open(foundsamples_file, mode='rb') as f:\n",
    "    train = pickle.load(f)\n",
    "    \n",
    "X_found = train['features']\n",
    "y_found = train['labels']"
   ]
  },
  {
   "cell_type": "code",
   "execution_count": null,
   "metadata": {
    "collapsed": false
   },
   "outputs": [],
   "source": [
    "softmax_logits = tf.nn.softmax(logits)\n",
    "top_k = tf.nn.top_k(softmax_logits, k=3)\n",
    "\n",
    "\n",
    "with tf.Session() as sess:\n",
    "    sess.run(tf.global_variables_initializer())\n",
    "    saver = tf.train.import_meta_graph('./lenet.meta')\n",
    "    saver.restore(sess, \"./lenet\")\n",
    "    my_softmax_logits = sess.run(softmax_logits, feed_dict={x: X_found, keep_prob: 1.0})\n",
    "    my_top_k = sess.run(top_k, feed_dict={x: X_found, keep_prob: 1.0})\n",
    "\n",
    "    \n",
    "    fig, axs = plt.subplots(len(X_found),4, figsize=(12, 14))\n",
    "    fig.subplots_adjust(hspace = .4, wspace=.2)\n",
    "    axs = axs.ravel()\n",
    "\n",
    "    for i, image in enumerate(X_found):\n",
    "        axs[4*i].axis('off')\n",
    "        #axs[4*i].imshow(cv2.cvtColor(image, cv2.COLOR_BGR2RGB))\n",
    "        axs[4*i].imshow(image)\n",
    "        axs[4*i].set_title('input')\n",
    "        guess1 = my_top_k[1][i][0]\n",
    "        index1 = np.argwhere(y_validation == guess1)[0]\n",
    "        axs[4*i+1].axis('off')\n",
    "        axs[4*i+1].imshow(X_validation[index1].squeeze(), cmap='gray')\n",
    "        axs[4*i+1].set_title('top guess: {} ({:.0f}%)'.format(guess1, 100*my_top_k[0][i][0]))\n",
    "        guess2 = my_top_k[1][i][1]\n",
    "        index2 = np.argwhere(y_validation == guess2)[0]\n",
    "        axs[4*i+2].axis('off')\n",
    "        axs[4*i+2].imshow(X_validation[index2].squeeze(), cmap='gray')\n",
    "        axs[4*i+2].set_title('2nd guess: {} ({:.0f}%)'.format(guess2, 100*my_top_k[0][i][1]))\n",
    "        guess3 = my_top_k[1][i][2]\n",
    "        index3 = np.argwhere(y_validation == guess3)[0]\n",
    "        axs[4*i+3].axis('off')\n",
    "        axs[4*i+3].imshow(X_validation[index3].squeeze(), cmap='gray')\n",
    "        axs[4*i+3].set_title('3rd guess: {} ({:.0f}%)'.format(guess3, 100*my_top_k[0][i][2]))"
   ]
  },
  {
   "cell_type": "code",
   "execution_count": null,
   "metadata": {
    "collapsed": true
   },
   "outputs": [],
   "source": []
  }
 ],
 "metadata": {
  "anaconda-cloud": {},
  "kernelspec": {
   "display_name": "Python [default]",
   "language": "python",
   "name": "python3"
  },
  "language_info": {
   "codemirror_mode": {
    "name": "ipython",
    "version": 3
   },
   "file_extension": ".py",
   "mimetype": "text/x-python",
   "name": "python",
   "nbconvert_exporter": "python",
   "pygments_lexer": "ipython3",
   "version": "3.5.2"
  }
 },
 "nbformat": 4,
 "nbformat_minor": 0
}
